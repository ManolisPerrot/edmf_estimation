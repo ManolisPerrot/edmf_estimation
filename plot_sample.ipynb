{
 "cells": [
  {
   "cell_type": "code",
   "execution_count": 1,
   "metadata": {},
   "outputs": [
    {
     "name": "stdout",
     "output_type": "stream",
     "text": [
      "Load sampler and sample\n"
     ]
    },
    {
     "data": {
      "text/plain": [
       "100-element Vector{Vector{Float64}}:\n",
       " [0.9962056199952914, 0.9659593366741676, 0.7618891354518417, 0.8915012969913585, 0.022878896732043963]\n",
       " [0.9970991022374881, 0.9958556901190305, 0.005681200404884318, 0.01294466450625846, 0.050226553843374655]\n",
       " [0.7873164776131774, 0.8606970549798241, 0.9954677595772596, 0.7539067218706108, 0.003922598054415729]\n",
       " [0.9223087761283193, 0.03638681851921425, 0.24460577573845482, 0.015119335267116321, 0.28440408375320597]\n",
       " [0.7645949598661661, 0.9128838628292205, 0.2007058548026746, 0.8779837136732747, 0.00665640321029247]\n",
       " [0.21627565198237503, 0.02731757896781931, 0.04346644631687249, 0.6526260884102305, 0.2273950420829955]\n",
       " [0.9157488102031609, 0.9552545879245229, 0.454722350552047, 0.43944005275218523, 0.0025881592314355465]\n",
       " [0.6930073760093268, 0.4687298548589896, 0.8340092445055262, 0.3214319469797624, 0.03839940218465936]\n",
       " [0.9158647318987798, 0.9200955986077163, 0.9902368299860056, 0.43230065258835626, 0.24286690430102165]\n",
       " [0.4138504797556783, 0.14046804948972227, 0.5945530238990985, 0.3353308865141464, 0.08197772659042378]\n",
       " ⋮\n",
       " [0.5798388216880617, 0.5193753701625397, 0.20591739182983176, 0.37265512546555474, 0.00728884576947846]\n",
       " [0.7938202056479633, 0.9341695254174119, 0.21819607595974216, 0.840055872706199, 0.26684959232513156]\n",
       " [0.7623705559988961, 0.9798511473590725, 0.1613045477626754, 0.17904779185066882, 0.2664918021941192]\n",
       " [0.5502757693007957, 0.3022100333589615, 0.03545847075638605, 0.608656712570473, 0.2725061249154261]\n",
       " [0.17439996756275927, 0.007725216446960308, 0.1795690237324113, 0.7600062919074829, 0.03653656787483369]\n",
       " [0.9894492125511913, 0.7846470634327098, 0.12597183010440832, 0.8660608041408758, 0.2474294313155318]\n",
       " [0.6436853064835496, 0.582954432351843, 0.09520083145561768, 0.34435184971081023, 0.00981487261943055]\n",
       " [0.7094220060161192, 0.15556549334376196, 0.9956364859894704, 0.10936220269018362, 0.18094930890183566]\n",
       " [0.9922555409241367, 0.039212628601451104, 0.15721175354171885, 0.18613297303618526, 0.2361572678255912]"
      ]
     },
     "execution_count": 1,
     "metadata": {},
     "output_type": "execute_result"
    }
   ],
   "source": [
    "from juliacall import Main as jl\n",
    "import numpy as np\n",
    "jl.seval(\"\"\"using SequentialMeasureTransport\"\"\")\n",
    "jl.seval(\"\"\"import SequentialMeasureTransport as SMT\"\"\")\n",
    "jl.seval(\"\"\"using Distributions\"\"\")\n",
    "jl.seval(\"\"\"using PythonCall\"\"\")\n",
    "\n",
    "\n",
    "print('Load sampler and sample')\n",
    "jl.seval(\"\"\"sampler = SMT.load_sampler(\"smp.jld2\")\"\"\")\n",
    "jl.seval(\"\"\"sample = rand(sampler, 100) #10 000 samples\"\"\")\n",
    "\n"
   ]
  },
  {
   "cell_type": "code",
   "execution_count": null,
   "metadata": {},
   "outputs": [],
   "source": []
  },
  {
   "cell_type": "code",
   "execution_count": 4,
   "metadata": {},
   "outputs": [],
   "source": [
    "sample_py = np.array(jl.seval(\"\"\" Py(hcat(sample...)) \"\"\"))"
   ]
  },
  {
   "cell_type": "code",
   "execution_count": 6,
   "metadata": {},
   "outputs": [
    {
     "data": {
      "text/plain": [
       "(5, 100)"
      ]
     },
     "execution_count": 6,
     "metadata": {},
     "output_type": "execute_result"
    }
   ],
   "source": [
    "sample_py.shape"
   ]
  },
  {
   "cell_type": "code",
   "execution_count": 17,
   "metadata": {},
   "outputs": [
    {
     "data": {
      "text/plain": [
       "(100,)"
      ]
     },
     "execution_count": 17,
     "metadata": {},
     "output_type": "execute_result"
    }
   ],
   "source": [
    "sample_py[0,:].shape"
   ]
  },
  {
   "cell_type": "code",
   "execution_count": 8,
   "metadata": {},
   "outputs": [],
   "source": [
    "import seaborn as sns\n",
    "import matplotlib.pyplot as plt\n",
    " \n"
   ]
  },
  {
   "cell_type": "code",
   "execution_count": null,
   "metadata": {},
   "outputs": [],
   "source": [
    "# Custom the inside plot: options are: “scatter” | “reg” | “resid” | “kde” | “hex”\n",
    "sns.jointplot(x=sample_py[0,:], y=sample_py[1,:], kind='scatter')\n",
    "sns.jointplot(x=sample_py[0,:], y=sample_py[1,:], kind='hex')\n",
    "sns.jointplot(x=sample_py[0,:], y=sample_py[1,:], kind='kde')\n",
    "\n",
    "plt.show()"
   ]
  },
  {
   "cell_type": "code",
   "execution_count": 11,
   "metadata": {},
   "outputs": [
    {
     "data": {
      "text/plain": [
       "(5, 100)"
      ]
     },
     "execution_count": 11,
     "metadata": {},
     "output_type": "execute_result"
    }
   ],
   "source": [
    "sample_py.shape\n"
   ]
  },
  {
   "cell_type": "code",
   "execution_count": null,
   "metadata": {},
   "outputs": [],
   "source": [
    "import numpy as np\n",
    "import pandas as pd\n",
    "\n",
    "df = pd.DataFrame(sample_py, columns=['X_1', 'X_2','X_3','X_4','X_5'])\n",
    "\n",
    "print(df)\n",
    "print(type(df))"
   ]
  },
  {
   "cell_type": "code",
   "execution_count": 13,
   "metadata": {},
   "outputs": [
    {
     "ename": "IndexError",
     "evalue": "arrays used as indices must be of integer (or boolean) type",
     "output_type": "error",
     "traceback": [
      "\u001b[0;31m---------------------------------------------------------------------------\u001b[0m",
      "\u001b[0;31mIndexError\u001b[0m                                Traceback (most recent call last)",
      "Cell \u001b[0;32mIn[13], line 1\u001b[0m\n\u001b[0;32m----> 1\u001b[0m g \u001b[39m=\u001b[39m sns\u001b[39m.\u001b[39mPairGrid(sample_py\u001b[39m.\u001b[39mT, diag_sharey\u001b[39m=\u001b[39m\u001b[39mFalse\u001b[39;00m)\n\u001b[1;32m      2\u001b[0m g\u001b[39m.\u001b[39mmap_upper(sns\u001b[39m.\u001b[39mscatterplot)\n\u001b[1;32m      3\u001b[0m g\u001b[39m.\u001b[39mmap_lower(sns\u001b[39m.\u001b[39mkdeplot)\n",
      "File \u001b[0;32m~/anaconda3/lib/python3.11/site-packages/seaborn/axisgrid.py:1245\u001b[0m, in \u001b[0;36mPairGrid.__init__\u001b[0;34m(self, data, hue, vars, x_vars, y_vars, hue_order, palette, hue_kws, corner, diag_sharey, height, aspect, layout_pad, despine, dropna)\u001b[0m\n\u001b[1;32m   1242\u001b[0m \u001b[39msuper\u001b[39m()\u001b[39m.\u001b[39m\u001b[39m__init__\u001b[39m()\n\u001b[1;32m   1244\u001b[0m \u001b[39m# Sort out the variables that define the grid\u001b[39;00m\n\u001b[0;32m-> 1245\u001b[0m numeric_cols \u001b[39m=\u001b[39m \u001b[39mself\u001b[39m\u001b[39m.\u001b[39m_find_numeric_cols(data)\n\u001b[1;32m   1246\u001b[0m \u001b[39mif\u001b[39;00m hue \u001b[39min\u001b[39;00m numeric_cols:\n\u001b[1;32m   1247\u001b[0m     numeric_cols\u001b[39m.\u001b[39mremove(hue)\n",
      "File \u001b[0;32m~/anaconda3/lib/python3.11/site-packages/seaborn/axisgrid.py:1668\u001b[0m, in \u001b[0;36mPairGrid._find_numeric_cols\u001b[0;34m(self, data)\u001b[0m\n\u001b[1;32m   1666\u001b[0m numeric_cols \u001b[39m=\u001b[39m []\n\u001b[1;32m   1667\u001b[0m \u001b[39mfor\u001b[39;00m col \u001b[39min\u001b[39;00m data:\n\u001b[0;32m-> 1668\u001b[0m     \u001b[39mif\u001b[39;00m variable_type(data[col]) \u001b[39m==\u001b[39m \u001b[39m\"\u001b[39m\u001b[39mnumeric\u001b[39m\u001b[39m\"\u001b[39m:\n\u001b[1;32m   1669\u001b[0m         numeric_cols\u001b[39m.\u001b[39mappend(col)\n\u001b[1;32m   1670\u001b[0m \u001b[39mreturn\u001b[39;00m numeric_cols\n",
      "\u001b[0;31mIndexError\u001b[0m: arrays used as indices must be of integer (or boolean) type"
     ]
    }
   ],
   "source": [
    "g = sns.PairGrid(sample_py.T, diag_sharey=False)\n",
    "g.map_upper(sns.scatterplot)\n",
    "g.map_lower(sns.kdeplot)\n",
    "g.map_diag(sns.kdeplot)\n"
   ]
  }
 ],
 "metadata": {
  "kernelspec": {
   "display_name": "base",
   "language": "python",
   "name": "python3"
  },
  "language_info": {
   "codemirror_mode": {
    "name": "ipython",
    "version": 3
   },
   "file_extension": ".py",
   "mimetype": "text/x-python",
   "name": "python",
   "nbconvert_exporter": "python",
   "pygments_lexer": "ipython3",
   "version": "3.11.3"
  },
  "orig_nbformat": 4
 },
 "nbformat": 4,
 "nbformat_minor": 2
}
