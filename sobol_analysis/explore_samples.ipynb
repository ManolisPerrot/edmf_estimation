{
 "cells": [
  {
   "cell_type": "code",
   "execution_count": 20,
   "id": "27be5324",
   "metadata": {},
   "outputs": [
    {
     "name": "stdout",
     "output_type": "stream",
     "text": [
      "sobol_FC500_16\n"
     ]
    }
   ],
   "source": [
    "import numpy as np\n",
    "import matplotlib.pyplot as plt\n",
    "import netCDF4 as nc\n",
    "import pickle\n",
    "\n",
    "plt.rcParams['text.usetex'] = True\n",
    "# plt.rcParams.update({'font.size': 22})\n",
    "plt.rcParams.update({'figure.facecolor': 'white'})\n",
    "plt.rcParams.update({'savefig.facecolor': 'white'})\n",
    "plt.rcParams.update({'lines.linewidth': 2.0})\n",
    "# plt.rcParams['text.latex.preamble']=[r\"\\usepackage{amsmath}\"]\n",
    "\n",
    "\n",
    "### WARNING: small_ap = False causes many divergent values (theta > 10^50) or NaNs\n",
    "\n",
    "N = 16\n",
    "cases=['FC500','W005_C500_NO_COR']\n",
    "case = cases[0] \n",
    "\n",
    "output={}\n",
    "\n",
    "with open('outputs/samples_FC500_'+str(N), 'rb') as handle:\n",
    "    # with open('outputs/sobol_'+nsample, 'rb') as handle:\n",
    "    output = pickle.load(handle)\n",
    "\n",
    "saving_name = 'sobol_'+cases[0]+'_'+str(N)\n",
    "print(saving_name)\n"
   ]
  },
  {
   "cell_type": "code",
   "execution_count": 35,
   "id": "b6f13433",
   "metadata": {},
   "outputs": [
    {
     "data": {
      "text/plain": [
       "{'z_r': array([-975.66153917, -929.15900755, -885.40320557, -844.22127555,\n",
       "        -805.45123825, -768.94130825, -734.54925247, -702.14178898,\n",
       "        -671.59402371, -642.78892259, -615.61681689, -589.97493971,\n",
       "        -565.76699165, -542.9027338 , -521.29760634, -500.87237112,\n",
       "        -481.55277683, -463.26924512, -445.95657654, -429.55367499,\n",
       "        -414.00328949, -399.25177219, -385.24885169, -371.94742047,\n",
       "        -359.30333589, -347.27523355, -335.82435251, -324.91437144,\n",
       "        -314.51125511, -304.58311056, -295.10005229, -286.03407595,\n",
       "        -277.35893998, -269.0500547 , -261.08437839, -253.4403199 ,\n",
       "        -246.09764738, -239.03740281, -232.24182181, -225.69425864,\n",
       "        -219.37911577, -213.28177801, -207.38855072, -201.68660192,\n",
       "        -196.16390807, -190.80920326, -185.61193157, -180.56220247,\n",
       "        -175.65074903, -170.86888873, -166.20848678, -161.66192171,\n",
       "        -157.22205321, -152.88219191, -148.63607111, -144.47782032,\n",
       "        -140.40194043, -136.40328045, -132.47701577, -128.61862777,\n",
       "        -124.82388469, -121.08882379, -117.40973454, -113.78314301,\n",
       "        -110.20579712, -106.67465295, -103.18686185,  -99.73975837,\n",
       "         -96.33084907,  -92.9578019 ,  -89.61843641,  -86.31071449,\n",
       "         -83.03273176,  -79.78270956,  -76.55898739,  -73.3600159 ,\n",
       "         -70.18435035,  -67.03064452,  -63.89764499,  -60.78418584,\n",
       "         -57.68918377,  -54.61163346,  -51.55060337,  -48.50523177,\n",
       "         -45.4747231 ,  -42.45834465,  -39.45542341,  -36.46534324,\n",
       "         -33.48754228,  -30.52151059,  -27.56678793,  -24.62296189,\n",
       "         -21.68966611,  -18.76657872,  -15.85342101,  -12.94995624,\n",
       "         -10.05598862,   -7.17136253,   -4.29596179,   -1.42970924]),\n",
       " 'time': {'FC500': array([ 0,  1,  2,  3,  4,  5,  6,  7,  8,  9, 10, 11, 12, 13, 14, 15, 16,\n",
       "         17, 18, 19, 20, 21, 22, 23, 24, 25, 26, 27, 28, 29, 30, 31, 32, 33,\n",
       "         34, 35, 36, 37, 38, 39, 40, 41, 42, 43, 44, 45, 46, 47, 48, 49, 50,\n",
       "         51, 52, 53, 54, 55, 56, 57, 58, 59, 60, 61, 62, 63, 64, 65, 66, 67,\n",
       "         68, 69, 70, 71])}}"
      ]
     },
     "execution_count": 35,
     "metadata": {},
     "output_type": "execute_result"
    }
   ],
   "source": [
    "len(output['variables_range'])\n",
    "output['FC500']['coordinates']\n",
    "# output['FC500']['variables']['temp']['Y'].shape\n"
   ]
  },
  {
   "cell_type": "code",
   "execution_count": 4,
   "id": "836e207b",
   "metadata": {},
   "outputs": [
    {
     "ename": "KeyError",
     "evalue": "'Cent'",
     "output_type": "error",
     "traceback": [
      "\u001b[0;31m---------------------------------------------------------------------------\u001b[0m",
      "\u001b[0;31mKeyError\u001b[0m                                  Traceback (most recent call last)",
      "Cell \u001b[0;32mIn[4], line 2\u001b[0m\n\u001b[1;32m      1\u001b[0m \u001b[38;5;28;01mfor\u001b[39;00m i \u001b[38;5;129;01min\u001b[39;00m \u001b[38;5;28mrange\u001b[39m(\u001b[38;5;28mlen\u001b[39m(output[\u001b[38;5;124m'\u001b[39m\u001b[38;5;124m16\u001b[39m\u001b[38;5;124m'\u001b[39m][\u001b[38;5;124m'\u001b[39m\u001b[38;5;124mvariables_range\u001b[39m\u001b[38;5;124m'\u001b[39m])):\n\u001b[0;32m----> 2\u001b[0m     \u001b[38;5;28mprint\u001b[39m(output[\u001b[38;5;124m'\u001b[39m\u001b[38;5;124m16\u001b[39m\u001b[38;5;124m'\u001b[39m][\u001b[38;5;124m'\u001b[39m\u001b[38;5;124mvariables_range\u001b[39m\u001b[38;5;124m'\u001b[39m][i][\u001b[38;5;241m0\u001b[39m],output[\u001b[38;5;124m'\u001b[39m\u001b[38;5;124m16\u001b[39m\u001b[38;5;124m'\u001b[39m][\u001b[38;5;124m'\u001b[39m\u001b[38;5;124mFC500\u001b[39m\u001b[38;5;124m'\u001b[39m][\u001b[38;5;124m'\u001b[39m\u001b[38;5;124mCent\u001b[39m\u001b[38;5;124m'\u001b[39m][\u001b[38;5;124m'\u001b[39m\u001b[38;5;124mX_tilde\u001b[39m\u001b[38;5;124m'\u001b[39m][\u001b[38;5;241m4\u001b[39m][i])\n",
      "\u001b[0;31mKeyError\u001b[0m: 'Cent'"
     ]
    }
   ],
   "source": [
    "for i in range(len(output['16']['variables_range'])):\n",
    "    print(output['16']['variables_range'][i][0],output['16']['FC500']['Cent']['X_tilde'][4][i])"
   ]
  },
  {
   "cell_type": "code",
   "execution_count": 7,
   "id": "35bfce2d",
   "metadata": {},
   "outputs": [
    {
     "data": {
      "text/plain": [
       "{'z_r': array([-975.66153917, -929.15900755, -885.40320557, -844.22127555,\n",
       "        -805.45123825, -768.94130825, -734.54925247, -702.14178898,\n",
       "        -671.59402371, -642.78892259, -615.61681689, -589.97493971,\n",
       "        -565.76699165, -542.9027338 , -521.29760634, -500.87237112,\n",
       "        -481.55277683, -463.26924512, -445.95657654, -429.55367499,\n",
       "        -414.00328949, -399.25177219, -385.24885169, -371.94742047,\n",
       "        -359.30333589, -347.27523355, -335.82435251, -324.91437144,\n",
       "        -314.51125511, -304.58311056, -295.10005229, -286.03407595,\n",
       "        -277.35893998, -269.0500547 , -261.08437839, -253.4403199 ,\n",
       "        -246.09764738, -239.03740281, -232.24182181, -225.69425864,\n",
       "        -219.37911577, -213.28177801, -207.38855072, -201.68660192,\n",
       "        -196.16390807, -190.80920326, -185.61193157, -180.56220247,\n",
       "        -175.65074903, -170.86888873, -166.20848678, -161.66192171,\n",
       "        -157.22205321, -152.88219191, -148.63607111, -144.47782032,\n",
       "        -140.40194043, -136.40328045, -132.47701577, -128.61862777,\n",
       "        -124.82388469, -121.08882379, -117.40973454, -113.78314301,\n",
       "        -110.20579712, -106.67465295, -103.18686185,  -99.73975837,\n",
       "         -96.33084907,  -92.9578019 ,  -89.61843641,  -86.31071449,\n",
       "         -83.03273176,  -79.78270956,  -76.55898739,  -73.3600159 ,\n",
       "         -70.18435035,  -67.03064452,  -63.89764499,  -60.78418584,\n",
       "         -57.68918377,  -54.61163346,  -51.55060337,  -48.50523177,\n",
       "         -45.4747231 ,  -42.45834465,  -39.45542341,  -36.46534324,\n",
       "         -33.48754228,  -30.52151059,  -27.56678793,  -24.62296189,\n",
       "         -21.68966611,  -18.76657872,  -15.85342101,  -12.94995624,\n",
       "         -10.05598862,   -7.17136253,   -4.29596179,   -1.42970924]),\n",
       " 'time': {'FC500': array([ 0,  1,  2,  3,  4,  5,  6,  7,  8,  9, 10, 11, 12, 13, 14, 15, 16,\n",
       "         17, 18, 19, 20, 21, 22, 23, 24, 25, 26, 27, 28, 29, 30, 31, 32, 33,\n",
       "         34, 35, 36, 37, 38, 39, 40, 41, 42, 43, 44, 45, 46, 47, 48, 49, 50,\n",
       "         51, 52, 53, 54, 55, 56, 57, 58, 59, 60, 61, 62, 63, 64, 65, 66, 67,\n",
       "         68, 69, 70, 71])}}"
      ]
     },
     "execution_count": 7,
     "metadata": {},
     "output_type": "execute_result"
    }
   ],
   "source": [
    "output['16']['FC500']['coordinates']"
   ]
  },
  {
   "cell_type": "code",
   "execution_count": 17,
   "id": "71a4e537",
   "metadata": {},
   "outputs": [
    {
     "data": {
      "image/png": "[encoded data removed]",
      "text/plain": [
       "<Figure size 640x480 with 1 Axes>"
      ]
     },
     "metadata": {},
     "output_type": "display_data"
    }
   ],
   "source": [
    "z_r = output['16']['FC500']['coordinates']['z_r']\n",
    "\n",
    "for parameter in output['16']['FC500']['variables']['temp']['Y_tilde']:\n",
    "    plt.plot(output['16']['FC500']['variables']['temp']['Y_tilde'][parameter][0][:,-1], z_r)"
   ]
  },
  {
   "cell_type": "code",
   "execution_count": null,
   "id": "fc717513",
   "metadata": {},
   "outputs": [],
   "source": []
  },
  {
   "cell_type": "code",
   "execution_count": null,
   "id": "d20d7003",
   "metadata": {},
   "outputs": [],
   "source": [
    "\n",
    "saving_path = 'figures/sensitivity_of_variance_'+case+'.png'\n",
    "\n",
    "true_name={'Cent': r'$\\beta_1$',\n",
    "            'Cdet': r'$\\beta_2$',\n",
    "            'wp_a': r'$a$',\n",
    "            'wp_b': r'$b$',\n",
    "            'wp_bp': r'$b^\\prime$',\n",
    "            'up_c': r'$C_u$',\n",
    "            'vp_c': r'$C_v$',\n",
    "            'bc_ap': r'$a_p^0$',\n",
    "            'delta_bkg': r'$\\delta_0$',\n",
    "            'wp0': r'$w_p^0$' }\n",
    "\n",
    "#=============== Plot only THETA =====================\n",
    "\n",
    "alphas = np.linspace(start=0.3,stop=1,num=len(nsamples))\n",
    "\n",
    "# fig, axs = plt.subplots(nrows=3, ncols=4, sharex=False, constrained_layout=True)\n",
    "\n",
    "fig=plt.figure()\n",
    "ax11 = plt.subplot(3,4,1)\n",
    "ax12 = plt.subplot(3,4,2)\n",
    "ax13 = plt.subplot(3,4,3)\n",
    "ax14 = plt.subplot(3,4,4)\n",
    "ax21 = plt.subplot(3,4,5)\n",
    "ax22 = plt.subplot(3,4,6)\n",
    "ax23 = plt.subplot(3,4,7)\n",
    "ax24 = plt.subplot(3,4,8)\n",
    "ax31 = plt.subplot(3,4,9)\n",
    "ax32 = plt.subplot(3,4,10)\n",
    "ax5  = plt.subplot(3,2,6)\n",
    "axs=[ax11,ax12,ax13,ax14,ax21,ax22,ax23,ax24,ax31,ax32,ax5]\n",
    "\n",
    "\n",
    "field = 'temp' \n",
    "xmin = -0.0001\n",
    "xmax = 0.0005\n",
    "zlim=-300\n",
    "#====================================\n",
    "for k,nsample in enumerate(nsamples):\n",
    "    z_r = output[nsample][case]['z_r']\n",
    "    for i, parameter in enumerate(output[nsample][case]['sobol_indices']):\n",
    "        variable_name = true_name[parameter]\n",
    "        axs[i].plot(output[nsample][case]['sobol_indices'][parameter][field]['enumerator_z'], z_r, color='tab:blue',alpha=alphas[k])\n",
    "        axs[i].set_ylabel(r'$z(m)$')\n",
    "        axs[i].set_xlabel(r'$K^2$')\n",
    "        axs[i].set_title(r'$\\mathbf{Var}(\\mathbf{E}[\\theta |$'+variable_name+' $])$')\n",
    "        # axs[i].set_xlim((xmin,xmax))\n",
    "        # axs[i].set_ylim((zlim,0))\n",
    "\n",
    "\n",
    "ax=axs[-1]\n",
    "for k,nsample in enumerate(nsamples):\n",
    "    for parameter in output[nsample][case]['sobol_indices']:\n",
    "        variable_name = true_name[parameter]\n",
    "        L2sobolindex=output[nsample][case]['sobol_indices'][parameter][field]['l2 index']\n",
    "        ax.plot(variable_name, L2sobolindex, 'o', color='tab:blue',  alpha=alphas[k])\n",
    "    ax.set_title(r'$L^2$ relative variance')\n",
    "    # ax.set_ylim((0,0.5))\n",
    "fig.tight_layout()\n",
    "\n",
    "\n",
    "\n",
    "\n"
   ]
  }
 ],
 "metadata": {
  "kernelspec": {
   "display_name": "Python 3",
   "language": "python",
   "name": "python3"
  },
  "language_info": {
   "codemirror_mode": {
    "name": "ipython",
    "version": 3
   },
   "file_extension": ".py",
   "mimetype": "text/x-python",
   "name": "python",
   "nbconvert_exporter": "python",
   "pygments_lexer": "ipython3",
   "version": "3.11.3"
  },
  "toc": {
   "base_numbering": 1,
   "nav_menu": {},
   "number_sections": true,
   "sideBar": true,
   "skip_h1_title": false,
   "title_cell": "Table of Contents",
   "title_sidebar": "Contents",
   "toc_cell": false,
   "toc_position": {},
   "toc_section_display": true,
   "toc_window_display": false
  }
 },
 "nbformat": 4,
 "nbformat_minor": 5
}
